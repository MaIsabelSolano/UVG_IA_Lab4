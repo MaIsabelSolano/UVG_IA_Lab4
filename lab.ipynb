{
 "cells": [
  {
   "cell_type": "code",
   "execution_count": null,
   "metadata": {},
   "outputs": [],
   "source": []
  },
  {
   "attachments": {},
   "cell_type": "markdown",
   "metadata": {},
   "source": [
    "Universidad del valle de Guatemala <br>\n",
    "Facultad de Ingeniería <br>\n",
    "Departamento de ciencias de la Computación <br>\n",
    "Inteligencia Artificial <br>\n",
    "\n",
    "Grupo # 5\n",
    "Christopher García 20541 <br>\n",
    "Gabriel Vicente 20498<br>\n",
    "Ma. Isabel Solano 20504<br>\n",
    "\n",
    "# Laboratorio 4: Regresión Polinomial \n"
   ]
  },
  {
   "cell_type": "markdown",
   "metadata": {},
   "source": []
  }
 ],
 "metadata": {
  "language_info": {
   "name": "python"
  },
  "orig_nbformat": 4
 },
 "nbformat": 4,
 "nbformat_minor": 2
}
