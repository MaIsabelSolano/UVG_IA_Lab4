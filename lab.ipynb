{
 "cells": [
  {
   "cell_type": "code",
   "execution_count": null,
   "metadata": {},
   "outputs": [],
   "source": []
  },
  {
   "attachments": {},
   "cell_type": "markdown",
   "metadata": {},
   "source": [
    "Universidad del valle de Guatemala <br>\n",
    "Facultad de Ingeniería <br>\n",
    "Departamento de ciencias de la Computación <br>\n",
    "Inteligencia Artificial <br>\n",
    "\n",
    "Grupo # 5\n",
    "Christopher García 20541 <br>\n",
    "Gabriel Vicente 20498<br>\n",
    "Ma. Isabel Solano 20504<br>\n",
    "\n",
    "# Laboratorio 4: Regresión Polinomial \n",
    "Instrucciones: Usted usará Python a través de un Jupyter Notebook para llevar a cabo este ejercicio. Recuerde\n",
    "utilizar comentarios para describir lo que está haciendo en cada parte del proceso. Estará usando el juego de datos\n",
    "proporcionado dentro del portal. Al finalizar recuerde subir al portal un link a su repositorio en el que se pueda correr\n",
    "su notebook, usando https://mybinder.org/.\n",
    "El juego de datos proporcionado es parte de la plataforma Kaggle, dentro del cual se muestran los precios de casas\n",
    "en King County, Seattle. Este juego de datos incluye los precios de las casas vendidas entre mayo 2014 y mayo\n",
    "2015. Nótese que el precio es dependiente de varias características como el número de habitaciones, número de\n",
    "baños, metros cuadrados de la sala, pisos, etc.\n",
    "<br><br>\n",
    "Para este ejercicio se le pide que proporcione un modelo de regresión polinomial que muestre la relación precio y\n",
    "pies cuadrados del espacio habitable interior de los apartamentos que se muestra en el juego de datos\n",
    "proporcionado. A continuación, se mencionan las generalidades de los pasos sugeridos a realizar."
   ]
  },
  {
   "attachments": {},
   "cell_type": "markdown",
   "metadata": {},
   "source": [
    "## Task 1.1\n",
    "Leer el archivo CSV proporcionado (kc_house_data.csv dentro de lab4_dataset.zip) y almacenarlo en un p.array para\n",
    "ser trabajado en el notebook."
   ]
  },
  {
   "attachments": {},
   "cell_type": "markdown",
   "metadata": {},
   "source": [
    "## Task 1.2\n",
    "Ajustar un modelo polinomial (regresión lineal) en base al juego de datos cargado de forma matricial que relaciona\n",
    "las variables de precio con los pies cuadrados del espacio habitable interior de los apartamentos (price - sqft living)."
   ]
  },
  {
   "attachments": {},
   "cell_type": "markdown",
   "metadata": {},
   "source": [
    "## Task 1.3\n",
    "Utilice la implementación vectorial del algoritmo de regresión lineal (descenso del gradiente visto en clase)."
   ]
  },
  {
   "attachments": {},
   "cell_type": "markdown",
   "metadata": {},
   "source": [
    "## Task 1.4\n",
    "Usando cross-validation determine el grado del polinomio que mejor describe la nube de puntos (encuentre el mejor\n",
    "balance entre apego a los datos de entrenamiento y generalización para datos previamente no observados)."
   ]
  },
  {
   "attachments": {},
   "cell_type": "markdown",
   "metadata": {},
   "source": [
    "## Task 1.5\n",
    "Haga un análisis sobre sus hallazgos"
   ]
  },
  {
   "cell_type": "markdown",
   "metadata": {},
   "source": []
  }
 ],
 "metadata": {
  "kernelspec": {
   "display_name": "Python 3",
   "language": "python",
   "name": "python3"
  },
  "language_info": {
   "name": "python",
   "version": "3.9.13"
  },
  "orig_nbformat": 4,
  "vscode": {
   "interpreter": {
    "hash": "1de311aa84ee0d1bd363a22fd0c59d68a9d22e0f4b0b007a67b50cf69e393437"
   }
  }
 },
 "nbformat": 4,
 "nbformat_minor": 2
}
